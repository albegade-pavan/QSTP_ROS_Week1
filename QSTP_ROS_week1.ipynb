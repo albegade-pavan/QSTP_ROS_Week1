{
  "nbformat": 4,
  "nbformat_minor": 0,
  "metadata": {
    "colab": {
      "name": "QSTP_ROS_week1.ipynb",
      "provenance": [],
      "collapsed_sections": []
    },
    "kernelspec": {
      "name": "python3",
      "display_name": "Python 3"
    },
    "language_info": {
      "name": "python"
    }
  },
  "cells": [
    {
      "cell_type": "code",
      "metadata": {
        "colab": {
          "base_uri": "https://localhost:8080/",
          "height": 312
        },
        "id": "mItS_Vo96Dnv",
        "outputId": "ee95beca-c55a-4d79-c500-39e83856f0bc"
      },
      "source": [
        "#! /usr/bin/python3\n",
        "\"\"\"Week I Assignment\n",
        "Simulate the trajectory of a robot approximated using a unicycle model given the\n",
        "following start states, dt, velocity commands and timesteps\n",
        "State = (x, y, theta);\n",
        "Velocity = (v, w)\n",
        "1. Start=(0, 0, 0); dt=0.1; vel=(1, 0.5); timesteps: 25\n",
        "2. Start=(0, 0, 1.57); dt=0.2; vel=(0.5, 1); timesteps: 10\n",
        "3. Start(0, 0, 0.77); dt=0.05; vel=(5, 4); timestep: 50\n",
        "Upload the completed python file and the figures of the three sub parts in classroom\n",
        "\"\"\"\n",
        "import numpy as np\n",
        "import matplotlib.pyplot as plt\n",
        " \n",
        " \n",
        "class Unicycle:\n",
        "    def __init__(self, x: float, y: float, theta: float, dt: float):\n",
        "        self.x = x\n",
        "        self.y = y\n",
        "        self.theta = theta\n",
        "        self.dt = dt\n",
        " \n",
        "        # Store the points of the trajectory to plot\n",
        "        self.x_points = [self.x]\n",
        "        self.y_points = [self.y]\n",
        " \n",
        "        # print(self.x_points,self.y_points)\n",
        " \n",
        "    def step(self, v: float, w: float, n: int):\n",
        "        self.v = v\n",
        "        self.w = w\n",
        "        self.n = n\n",
        " \n",
        "        self.dt=0.1\n",
        "        # time = np.arange(0, self.dt)\n",
        "        x = self.x\n",
        "        y = self.y\n",
        "        theta = self.theta\n",
        "        time = self.dt\n",
        "        for i in range(n):\n",
        "            theta = theta+time * w \n",
        "            x =  x+v * np.cos(theta) * time \n",
        "            y =  y+v * np.sin(theta) * time \n",
        " \n",
        "            self.x_points.append(x)\n",
        "            self.y_points.append(y)\n",
        " \n",
        " \n",
        "        \"\"\"\n",
        "        Write the Kinematics model here\n",
        "        Expectation:\n",
        "            1. Given v, w and the current state self.x, self.y, self.theta\n",
        "                and control commands (v, w) for n timesteps, i.e. n * dt seconds,\n",
        "                return the final pose (x, y, theta) after this time.\n",
        "            2. Append all intermediate points into the self.x_points, self.y_points list\n",
        "                for plotting the trajectory.\n",
        "        Args:\n",
        "            v (float): linear velocity\n",
        "            w (float): angular velocity\n",
        "            n (int)  : timesteps\n",
        "        Return:\n",
        "            x, y, theta (float): final pose\n",
        "        \"\"\"\n",
        " \n",
        "        #print(self.x_points,self.y_points)\n",
        "        return self.x_points,self.y_points\n",
        "        # return x, y, theta\n",
        " \n",
        "    def plot(self, v: float, w: float):\n",
        "        \"\"\"Function that plots the intermeditate trajectory of the Robot\"\"\"\n",
        "        plt.title(f\"Unicycle Model: {v}, {w}\")\n",
        "        plt.xlabel(\"X-Coordinates\")\n",
        "        plt.ylabel(\"Y-Coordinates\")\n",
        "        plt.plot(self.x_points, self.y_points, color=\"red\", alpha=0.75)\n",
        "        plt.grid()\n",
        " \n",
        "        # If you want to view the plot uncomment plt.show() and comment out plt.savefig()\n",
        "        #plt.show()\n",
        "        # If you want to save the file, uncomment plt.savefig() and comment out plt.show()\n",
        "        plt.savefig(f\"Unicycle_{v}_{w}.png\")\n",
        " \n",
        " \n",
        " \n",
        " \n",
        "if __name__ == \"__main__\":\n",
        "    robot1 = Unicycle(0, 0, 0, 0.1)\n",
        "    robot1.step(1, 0.5, 25)\n",
        "    robot1.plot(1,0.5)\n",
        "\n",
        "    robot2 = Unicycle(0, 0, 1.57, 0.2)\n",
        "    robot2.step(0.5, 1, 10)\n",
        "    robot2.plot(0.5,1)\n",
        "\n",
        "    robot3 = Unicycle(0, 0, 0.77, 0.05)\n",
        "    robot3.step(5, 4, 50)\n",
        "    robot3.plot(5,4)\n",
        "\n",
        "\n",
        " \n",
        "    print(\"Unicycle Model Assignment\")\n",
        " \n",
        "    # make an object of the robot and plot various trajectories"
      ],
      "execution_count": 35,
      "outputs": [
        {
          "output_type": "stream",
          "text": [
            "Unicycle Model Assignment\n"
          ],
          "name": "stdout"
        },
        {
          "output_type": "display_data",
          "data": {
            "image/png": "[encoded data removed]",
            "text/plain": [
              "<Figure size 432x288 with 1 Axes>"
            ]
          },
          "metadata": {
            "tags": [],
            "needs_background": "light"
          }
        }
      ]
    }
  ]
}